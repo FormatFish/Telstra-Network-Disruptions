{
 "cells": [
  {
   "cell_type": "code",
   "execution_count": 1,
   "metadata": {
    "collapsed": true
   },
   "outputs": [],
   "source": [
    "import pandas as pd\n",
    "import numpy as np\n",
    "\n",
    "%matplotlib inline\n",
    "from matplotlib.pylab import rcParams\n",
    "rcParams[\"figure.figsize\"] = 16 , 4"
   ]
  },
  {
   "cell_type": "code",
   "execution_count": 2,
   "metadata": {
    "collapsed": false
   },
   "outputs": [
    {
     "name": "stdout",
     "output_type": "stream",
     "text": [
      "extree_1.csv       xgboost_11.csv  xgboost_3.csv  xgboost_7.csv\r\n",
      "extree_2.csv       xgboost_12.csv  xgboost_4.csv  xgboost_8.csv\r\n",
      "extree_models.csv  xgboost_1.csv   xgboost_5.csv  xgboost_9.csv\r\n",
      "xgboost_10.csv     xgboost_2.csv   xgboost_6.csv  xgboost_models.csv\r\n"
     ]
    }
   ],
   "source": [
    "ls ensemble/"
   ]
  },
  {
   "cell_type": "markdown",
   "metadata": {},
   "source": [
    "## combine 2 models"
   ]
  },
  {
   "cell_type": "code",
   "execution_count": 3,
   "metadata": {
    "collapsed": true
   },
   "outputs": [],
   "source": [
    "def combine_models(file1 , file2 , newfile , weights = (0.5 , 0.5)):\n",
    "    f1 = pd.read_csv(file1)\n",
    "    f2 = pd.read_csv(file2)\n",
    "    f1.merge(f2 , on = \"id\")\n",
    "    f = pd.DataFrame(f1[\"id\"])\n",
    "    f[\"predict_0\"] = f1.apply(lambda x: x[\"predict_0_x\"] * weights[0] + x[\"predict_0_y\"] * weights[1] , axis = 1)\n",
    "    f[\"predict_1\"] = f1.apply(lambda x: x[\"predict_1_x\"] * weights[0] + x[\"predict_1_y\"] * weights[1] , axis = 1)\n",
    "    f[\"predict_2\"] = f1.apply(lambda x: x[\"predict_2_x\"] * weights[0] + x[\"predict_2_y\"] * weights[1] , axis = 1)\n",
    "    f.to_csv(newfile , index = False)"
   ]
  },
  {
   "cell_type": "code",
   "execution_count": 4,
   "metadata": {
    "collapsed": true
   },
   "outputs": [],
   "source": [
    "xgboost_models = pd.read_csv(\"ensemble/xgboost_models.csv\")"
   ]
  },
  {
   "cell_type": "code",
   "execution_count": 6,
   "metadata": {
    "collapsed": false
   },
   "outputs": [
    {
     "data": {
      "text/plain": [
       "ModelID                         int64\n",
       "Accuracy                      float64\n",
       "CVScore_mean                  float64\n",
       "CVScore_std                   float64\n",
       "SpecifiedMetric               float64\n",
       "ActualScore (manual entry)    float64\n",
       "CVMethod                       object\n",
       "ConfusionMatrix                object\n",
       "Predictors                     object\n",
       "ScoringMetric                 float64\n",
       "AUC                           float64\n",
       "base_score                    float64\n",
       "colsample_bylevel               int64\n",
       "colsample_bytree              float64\n",
       "gamma                           int64\n",
       "learning_rate                 float64\n",
       "max_delta_step                  int64\n",
       "max_depth                       int64\n",
       "min_child_weight                int64\n",
       "missing                         int64\n",
       "n_estimators                    int64\n",
       "nthread                         int64\n",
       "objective                      object\n",
       "reg_alpha                     float64\n",
       "reg_lambda                      int64\n",
       "scale_pos_weight                int64\n",
       "seed                            int64\n",
       "silent                           bool\n",
       "subsample                     float64\n",
       "Feature_Importance             object\n",
       "reg_lambdas                   float64\n",
       "dtype: object"
      ]
     },
     "execution_count": 6,
     "metadata": {},
     "output_type": "execute_result"
    }
   ],
   "source": [
    "xgboost_models.dtypes"
   ]
  },
  {
   "cell_type": "code",
   "execution_count": 13,
   "metadata": {
    "collapsed": true
   },
   "outputs": [],
   "source": [
    "xgboost_1 = pd.read_csv(\"ensemble/xgboost_1.csv\")"
   ]
  },
  {
   "cell_type": "code",
   "execution_count": 14,
   "metadata": {
    "collapsed": false
   },
   "outputs": [
    {
     "data": {
      "text/plain": [
       "id                int64\n",
       "fault_severity    int64\n",
       "dtype: object"
      ]
     },
     "execution_count": 14,
     "metadata": {},
     "output_type": "execute_result"
    }
   ],
   "source": [
    "xgboost_1.dtypes"
   ]
  },
  {
   "cell_type": "code",
   "execution_count": 9,
   "metadata": {
    "collapsed": false
   },
   "outputs": [
    {
     "name": "stdout",
     "output_type": "stream",
     "text": [
      "etc3_model2.csv              xgb18c_model2_seed6088.csv\r\n",
      "xgb10b_model2.csv            xgb18c_model2_seed7088.csv\r\n",
      "xgb11_model2.csv             xgb18c_model2_seed8088.csv\r\n",
      "xgb12_model2_seed1055.csv    xgb18c_model2_seed88.csv\r\n",
      "xgb12_model2_seed2055.csv    xgb18c_model2_seed9088.csv\r\n",
      "xgb12_model2_seed3055.csv    xgb18c_model2_seedcombo.csv\r\n",
      "xgb12_model2_seed4055.csv    xgb18d_model2_seed1088.csv\r\n",
      "xgb12_model2_seed5055.csv    xgb18d_model2_seed2088.csv\r\n",
      "xgb12_model2_seed55.csv      xgb18d_model2_seed3088.csv\r\n",
      "xgb12_model2_seed6055.csv    xgb18d_model2_seed4088.csv\r\n",
      "xgb12_model2_seed7055.csv    xgb18d_model2_seed5088.csv\r\n",
      "xgb12_model2_seed8055.csv    xgb18d_model2_seed6088.csv\r\n",
      "xgb12_model2_seed9055.csv    xgb18d_model2_seed7088.csv\r\n",
      "xgb12_model2_seedcombo.csv   xgb18d_model2_seed8088.csv\r\n",
      "xgb13c_mdeol2.csv            xgb18d_model2_seed88.csv\r\n",
      "xgb13d_model2.csv            xgb18d_model2_seed9088.csv\r\n",
      "xgb14_model2_seed100.csv     xgb18d_model2_seedcombo.csv\r\n",
      "xgb14_model2_seed1100.csv    xgb18e_model2_seed1088.csv\r\n",
      "xgb14_model2_seed2100.csv    xgb18e_model2_seed2088.csv\r\n",
      "xgb14_model2_seed3100.csv    xgb18e_model2_seed3088.csv\r\n",
      "xgb14_model2_seed4100.csv    xgb18e_model2_seed4088.csv\r\n",
      "xgb14_model2_seed5100.csv    xgb18e_model2_seed5088.csv\r\n",
      "xgb14_model2_seed6100.csv    xgb18e_model2_seed6088.csv\r\n",
      "xgb14_model2_seed7100.csv    xgb18e_model2_seed7088.csv\r\n",
      "xgb14_model2_seed8100.csv    xgb18e_model2_seed8088.csv\r\n",
      "xgb14_model2_seed9100.csv    xgb18e_model2_seed88.csv\r\n",
      "xgb14_model2_seedcombo.csv   xgb18e_model2_seed9088.csv\r\n",
      "xgb17d_model2.csv            xgb18_model2_seed1099.csv\r\n",
      "xgb18b_model2_seed1088.csv   xgb18_model2_seed2099.csv\r\n",
      "xgb18b_model2_seed2088.csv   xgb18_model2_seed3099.csv\r\n",
      "xgb18b_model2_seed3088.csv   xgb18_model2_seed4099.csv\r\n",
      "xgb18b_model2_seed4088.csv   xgb18_model2_seed5099.csv\r\n",
      "xgb18b_model2_seed5088.csv   xgb18_model2_seed6099.csv\r\n",
      "xgb18b_model2_seed6088.csv   xgb18_model2_seed7099.csv\r\n",
      "xgb18b_model2_seed7088.csv   xgb18_model2_seed8099.csv\r\n",
      "xgb18b_model2_seed8088.csv   xgb18_model2_seed9099.csv\r\n",
      "xgb18b_model2_seed88.csv     xgb18_model2_seed99.csv\r\n",
      "xgb18b_model2_seed9088.csv   xgb18_model2_seedcombo.csv\r\n",
      "xgb18b_model2_seedcombo.csv  xgb2c.csv\r\n",
      "xgb18c_model2_seed1088.csv   xgb3_model2.csv\r\n",
      "xgb18c_model2_seed2088.csv   xgb4c.csv\r\n",
      "xgb18c_model2_seed3088.csv   xgb7_model2.csv\r\n",
      "xgb18c_model2_seed4088.csv   xgb8.csv\r\n",
      "xgb18c_model2_seed5088.csv   xgb9.csv\r\n"
     ]
    }
   ],
   "source": [
    "ls submission/"
   ]
  },
  {
   "cell_type": "code",
   "execution_count": 10,
   "metadata": {
    "collapsed": true
   },
   "outputs": [],
   "source": [
    "xgb18_model2_seedcombo = pd.read_csv(\"submission/xgb18_model2_seedcombo.csv\")"
   ]
  },
  {
   "cell_type": "code",
   "execution_count": 11,
   "metadata": {
    "collapsed": false
   },
   "outputs": [
    {
     "data": {
      "text/plain": [
       "id             int64\n",
       "predict_0    float64\n",
       "predict_1    float64\n",
       "predict_2    float64\n",
       "dtype: object"
      ]
     },
     "execution_count": 11,
     "metadata": {},
     "output_type": "execute_result"
    }
   ],
   "source": [
    "xgb18_model2_seedcombo.dtypes"
   ]
  },
  {
   "cell_type": "code",
   "execution_count": 12,
   "metadata": {
    "collapsed": true
   },
   "outputs": [],
   "source": [
    "def combine_models_multi(files , newfile):\n",
    "    f1 = pd.read_csv(files[0])\n",
    "    f = pd.DataFrame(f1 , copy=True)\n",
    "    nf = len(files)\n",
    "    for i in range(1 , nf):\n",
    "        f1 = pd.read_csv(files[i])\n",
    "        f[\"predict_0\"] += f1[\"predict_0\"]\n",
    "        f[\"predict_1\"] += f1[\"predict_1\"]\n",
    "        f[\"predict_2\"] += f1[\"predict_2\"]\n",
    "    f[\"predict_0\"] /= nf\n",
    "    f[\"predict_1\"] /= nf\n",
    "    f[\"predict_2\"] /= nf\n",
    "    print round(sum(f[[\"predict_0\" , \"predict_1\" , \"predict_2\"]].sum()) , 0) == f.shape[0]\n",
    "    f.to_csv(newfile , index = False)"
   ]
  },
  {
   "cell_type": "code",
   "execution_count": 15,
   "metadata": {
    "collapsed": true
   },
   "outputs": [],
   "source": [
    "ensemble_models = [\"submission/xgb17d_model2.csv\" , \"submission/xgb13c_mdeol2.csv\" , \"submission/xgb13d_model2.csv\" , \"submission/xgb12_model2_seedcombo.csv\" , \"submission/xgb11_model2.csv\" , \"submission/xgb10b_model2.csv\"]"
   ]
  },
  {
   "cell_type": "code",
   "execution_count": 16,
   "metadata": {
    "collapsed": false
   },
   "outputs": [
    {
     "name": "stdout",
     "output_type": "stream",
     "text": [
      "True\n"
     ]
    }
   ],
   "source": [
    "combine_models_multi(ensemble_models , \"submission/final_ensemble.csv\")"
   ]
  },
  {
   "cell_type": "code",
   "execution_count": 17,
   "metadata": {
    "collapsed": true
   },
   "outputs": [],
   "source": [
    "import glob"
   ]
  },
  {
   "cell_type": "code",
   "execution_count": 20,
   "metadata": {
    "collapsed": false
   },
   "outputs": [],
   "source": [
    "models = glob.glob(\"submission/*.csv\")"
   ]
  },
  {
   "cell_type": "code",
   "execution_count": 21,
   "metadata": {
    "collapsed": true
   },
   "outputs": [],
   "source": [
    "models_refine = ensemble_models + [\"submission/xgb2c.csv\" , \"submission/xgb8.csv\" ,\"submission/xgb9.csv\" , \"submission/xgb3_model2.csv\" , \"submission/xgb7_model2.csv\"]"
   ]
  },
  {
   "cell_type": "code",
   "execution_count": 22,
   "metadata": {
    "collapsed": false
   },
   "outputs": [
    {
     "name": "stdout",
     "output_type": "stream",
     "text": [
      "True\n"
     ]
    }
   ],
   "source": [
    "combine_models_multi(models_refine , \"submission/final_ensemble2.csv\")"
   ]
  },
  {
   "cell_type": "code",
   "execution_count": 23,
   "metadata": {
    "collapsed": true
   },
   "outputs": [],
   "source": [
    "models_49 = [\"submission/xgb11_model2.csv\" , \"submission/xgb10b_model2.csv\" , \"submission/xgb13c_mdeol2.csv\" , \"submission/xgb13d_model2.csv\" , \"submission/xgb17d_model2.csv\"]"
   ]
  },
  {
   "cell_type": "code",
   "execution_count": 24,
   "metadata": {
    "collapsed": false
   },
   "outputs": [
    {
     "name": "stdout",
     "output_type": "stream",
     "text": [
      "True\n"
     ]
    }
   ],
   "source": [
    "combine_models_multi(models_49 , \"submission/final_ensemble_49.csv\")"
   ]
  },
  {
   "cell_type": "code",
   "execution_count": null,
   "metadata": {
    "collapsed": true
   },
   "outputs": [],
   "source": []
  }
 ],
 "metadata": {
  "kernelspec": {
   "display_name": "Python (tensor)",
   "language": "python",
   "name": "tensor"
  },
  "language_info": {
   "codemirror_mode": {
    "name": "ipython",
    "version": 2
   },
   "file_extension": ".py",
   "mimetype": "text/x-python",
   "name": "python",
   "nbconvert_exporter": "python",
   "pygments_lexer": "ipython2",
   "version": "2.7.13"
  }
 },
 "nbformat": 4,
 "nbformat_minor": 2
}
