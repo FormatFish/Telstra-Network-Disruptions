{
 "cells": [
  {
   "cell_type": "code",
   "execution_count": 1,
   "metadata": {
    "collapsed": true
   },
   "outputs": [],
   "source": [
    "import pandas as pd\n",
    "import numpy as np\n",
    "\n",
    "%matplotlib inline\n",
    "import matplotlib.pylab as plt\n",
    "from matplotlib.pylab import rcParams\n",
    "rcParams[\"figure.figsize\"] = 20 , 4"
   ]
  },
  {
   "cell_type": "code",
   "execution_count": 2,
   "metadata": {},
   "outputs": [
    {
     "name": "stderr",
     "output_type": "stream",
     "text": [
      "/Users/zhanghsiungwei/anaconda/envs/tensor/lib/python2.7/site-packages/sklearn/cross_validation.py:44: DeprecationWarning: This module was deprecated in version 0.18 in favor of the model_selection module into which all the refactored classes and functions are moved. Also note that the interface of the new CV iterators are different from that of this module. This module will be removed in 0.20.\n",
      "  \"This module will be removed in 0.20.\", DeprecationWarning)\n",
      "/Users/zhanghsiungwei/anaconda/envs/tensor/lib/python2.7/site-packages/sklearn/grid_search.py:43: DeprecationWarning: This module was deprecated in version 0.18 in favor of the model_selection module into which all the refactored classes and functions are moved. This module will be removed in 0.20.\n",
      "  DeprecationWarning)\n"
     ]
    }
   ],
   "source": [
    "from AJ_ML_Library import models_classification"
   ]
  },
  {
   "cell_type": "code",
   "execution_count": 3,
   "metadata": {
    "collapsed": true
   },
   "outputs": [],
   "source": [
    "from sklearn.preprocessing import LabelEncoder"
   ]
  },
  {
   "cell_type": "code",
   "execution_count": 4,
   "metadata": {
    "collapsed": true
   },
   "outputs": [],
   "source": [
    "train = pd.read_csv(\"data/train_modified_3.csv\")\n",
    "test = pd.read_csv(\"data/test_modified_3.csv\")"
   ]
  },
  {
   "cell_type": "code",
   "execution_count": 5,
   "metadata": {},
   "outputs": [
    {
     "data": {
      "text/plain": [
       "((7381, 234), (11171, 233))"
      ]
     },
     "execution_count": 5,
     "metadata": {},
     "output_type": "execute_result"
    }
   ],
   "source": [
    "train.shape , test.shape"
   ]
  },
  {
   "cell_type": "code",
   "execution_count": 6,
   "metadata": {},
   "outputs": [
    {
     "data": {
      "text/plain": [
       "0.0    4784\n",
       "1.0    1871\n",
       "2.0     726\n",
       "Name: fault_severity, dtype: int64"
      ]
     },
     "execution_count": 6,
     "metadata": {},
     "output_type": "execute_result"
    }
   ],
   "source": [
    "train[\"fault_severity\"].value_counts()"
   ]
  },
  {
   "cell_type": "code",
   "execution_count": 7,
   "metadata": {
    "collapsed": true
   },
   "outputs": [],
   "source": [
    "target = \"fault_severity\"\n",
    "IDcol = \"id\"\n",
    "output_colname = [\"predict_0\" , \"predict_1\" , \"predict_2\"]"
   ]
  },
  {
   "cell_type": "code",
   "execution_count": 8,
   "metadata": {
    "collapsed": true
   },
   "outputs": [],
   "source": [
    "train[\"source\"] = \"train\"\n",
    "test[\"source\"] = \"test\""
   ]
  },
  {
   "cell_type": "code",
   "execution_count": 9,
   "metadata": {
    "collapsed": true
   },
   "outputs": [],
   "source": [
    "data = pd.concat([train , test] , ignore_index=True)"
   ]
  },
  {
   "cell_type": "code",
   "execution_count": 10,
   "metadata": {},
   "outputs": [
    {
     "data": {
      "text/plain": [
       "(18552, 235)"
      ]
     },
     "execution_count": 10,
     "metadata": {},
     "output_type": "execute_result"
    }
   ],
   "source": [
    "data.shape"
   ]
  },
  {
   "cell_type": "markdown",
   "metadata": {},
   "source": [
    "## Variable for Resource Type"
   ]
  },
  {
   "cell_type": "code",
   "execution_count": 12,
   "metadata": {},
   "outputs": [],
   "source": [
    "model = pd.read_csv(\"ensemble/xgboost_models.csv\")"
   ]
  },
  {
   "cell_type": "code",
   "execution_count": 14,
   "metadata": {},
   "outputs": [
    {
     "data": {
      "text/plain": [
       "ModelID                         int64\n",
       "Accuracy                      float64\n",
       "CVScore_mean                  float64\n",
       "CVScore_std                   float64\n",
       "SpecifiedMetric               float64\n",
       "ActualScore (manual entry)    float64\n",
       "CVMethod                       object\n",
       "ConfusionMatrix                object\n",
       "Predictors                     object\n",
       "ScoringMetric                 float64\n",
       "AUC                           float64\n",
       "base_score                    float64\n",
       "colsample_bylevel               int64\n",
       "colsample_bytree              float64\n",
       "gamma                           int64\n",
       "learning_rate                 float64\n",
       "max_delta_step                  int64\n",
       "max_depth                       int64\n",
       "min_child_weight                int64\n",
       "missing                         int64\n",
       "n_estimators                    int64\n",
       "nthread                         int64\n",
       "objective                      object\n",
       "reg_alpha                       int64\n",
       "reg_lambda                      int64\n",
       "scale_pos_weight                int64\n",
       "seed                            int64\n",
       "silent                           bool\n",
       "subsample                     float64\n",
       "Feature_Importance             object\n",
       "dtype: object"
      ]
     },
     "execution_count": 14,
     "metadata": {},
     "output_type": "execute_result"
    }
   ],
   "source": [
    "model.dtypes"
   ]
  },
  {
   "cell_type": "code",
   "execution_count": 16,
   "metadata": {},
   "outputs": [
    {
     "name": "stdout",
     "output_type": "stream",
     "text": [
      "location               32642\n",
      "feature_count          27846\n",
      "location_counts        26110\n",
      "feature 82             10954\n",
      "feature 203             9905\n",
      "feature 170             3759\n",
      "feature 71              3511\n",
      "feature 54              3199\n",
      "feature 80              3178\n",
      "feature 201             2935\n",
      "feature 193             2695\n",
      "feature 68              2277\n",
      "event_type 11           2276\n",
      "feature 232             2252\n",
      "severity_type 1         2220\n",
      "feature 312             2169\n",
      "feature 307             1583\n",
      "feature 202             1509\n",
      "feature others_1        1502\n",
      "feature others_0        1470\n",
      "feature 73              1237\n",
      "resource_type 2         1208\n",
      "event_type 54           1096\n",
      "feature 227             1092\n",
      "feature 283             1011\n",
      "feature 368              970\n",
      "feature 313              943\n",
      "feature 55               939\n",
      "feature 291              903\n",
      "event_type 35            867\n",
      "feature others_2         850\n",
      "feature 81               832\n",
      "severity_type 2          801\n",
      "feature 179              778\n",
      "event_type 15            774\n",
      "feature 171              766\n",
      "event_type 14            762\n",
      "feature 209              746\n",
      "feature 223              715\n",
      "feature 233              708\n",
      "feature 273              694\n",
      "resource_type 8          678\n",
      "event_type 13            655\n",
      "feature 315              646\n",
      "feature 155              629\n",
      "feature 195              628\n",
      "feature 375              628\n",
      "feature 301              627\n",
      "feature 290              609\n",
      "feature 196              608\n",
      "feature 70               589\n",
      "severity_type 4          581\n",
      "feature 197              580\n",
      "feature 376              561\n",
      "event_type 34            561\n",
      "feature 345              521\n",
      "feature 134              517\n",
      "feature 86               508\n",
      "event_type 20            491\n",
      "feature 219              470\n",
      "feature 87               469\n",
      "feature 306              456\n",
      "feature 235              433\n",
      "feature 222              365\n",
      "event_type 18            365\n",
      "feature 228              350\n",
      "feature 218              336\n",
      "feature 314              321\n",
      "feature 182              321\n",
      "feature 44               312\n",
      "event_type 22            293\n",
      "feature 172              290\n",
      "feature 289              288\n",
      "event_type 10            288\n",
      "feature 221              287\n",
      "feature 157              286\n",
      "feature 205              281\n",
      "feature 230              275\n",
      "feature 75               260\n",
      "feature 83               260\n",
      "feature 56               259\n",
      "resource_type 1          249\n",
      "feature 234              241\n",
      "feature 217              239\n",
      "feature 198              215\n",
      "feature 191              212\n",
      "feature 309              210\n",
      "feature 62               208\n",
      "feature 204              206\n",
      "resource_type 7          198\n",
      "event_type 23            192\n",
      "feature 360              190\n",
      "feature 160              188\n",
      "feature 74               183\n",
      "feature 207              182\n",
      "feature 154              165\n",
      "feature 211              160\n",
      "feature 181              134\n",
      "event_type 42            129\n",
      "resource_type 4          129\n",
      "feature 284              124\n",
      "feature 308              123\n",
      "feature 362              115\n",
      "resource_type 6          110\n",
      "feature 310               98\n",
      "feature 167               97\n",
      "feature 42                96\n",
      "feature 51                94\n",
      "feature 39                91\n",
      "event_type 21             91\n",
      "event_type 50             90\n",
      "feature 305               87\n",
      "event_type 2              84\n",
      "feature 229               83\n",
      "feature 188               80\n",
      "feature 94                77\n",
      "feature 85                75\n",
      "feature 103               72\n",
      "event_type 44             71\n",
      "event_type 43             68\n",
      "event_type others_2       63\n",
      "feature 370               62\n",
      "resource_type 10          61\n",
      "severity_type 5           60\n",
      "feature 220               59\n",
      "feature 76                58\n",
      "feature 374               58\n",
      "event_type 28             55\n",
      "feature 206               54\n",
      "feature 105               54\n",
      "event_type 5              53\n",
      "resource_type 9           53\n",
      "feature 304               50\n",
      "event_type 7              48\n",
      "resource_type 3           44\n",
      "feature 163               44\n",
      "feature 47                44\n",
      "feature 378               41\n",
      "feature 285               41\n",
      "feature 153               39\n",
      "event_type 47             38\n",
      "event_type 46             37\n",
      "event_type 26             35\n",
      "feature 66                26\n",
      "feature 8                 23\n",
      "feature 133               23\n",
      "feature 35                19\n",
      "event_type 30             19\n",
      "event_type 6              18\n",
      "feature 318               17\n",
      "feature 293               16\n",
      "feature 349               16\n",
      "feature 63                15\n",
      "feature 135               15\n",
      "feature 212               14\n",
      "feature 161               13\n",
      "feature 95                13\n",
      "feature 118               13\n",
      "feature 38                11\n",
      "event_type 27              9\n",
      "feature 239                9\n",
      "event_type 29              8\n",
      "event_type others_0        8\n",
      "feature 20                 7\n",
      "feature 353                7\n",
      "event_type 24              5\n",
      "event_type 45              5\n",
      "event_type 40              4\n",
      "feature 240                4\n",
      "feature 101                4\n",
      "feature 280                3\n",
      "feature 132                2\n",
      "feature 276                2\n",
      "feature 354                1\n",
      "event_type 32              1\n"
     ]
    }
   ],
   "source": [
    "print model[\"Feature_Importance\"][1]"
   ]
  },
  {
   "cell_type": "code",
   "execution_count": 17,
   "metadata": {
    "collapsed": true
   },
   "outputs": [],
   "source": [
    "data[\"resource_type 8and2\"] = data.apply(lambda x: 1 if (x[\"resource_type 2\"] + x[\"resource_type 8\"]) == 2 else 0 , axis = 1)"
   ]
  },
  {
   "cell_type": "code",
   "execution_count": 18,
   "metadata": {},
   "outputs": [
    {
     "data": {
      "text/plain": [
       "0    17612\n",
       "1      940\n",
       "Name: resource_type 8and2, dtype: int64"
      ]
     },
     "execution_count": 18,
     "metadata": {},
     "output_type": "execute_result"
    }
   ],
   "source": [
    "data[\"resource_type 8and2\"].value_counts()"
   ]
  },
  {
   "cell_type": "code",
   "execution_count": 19,
   "metadata": {
    "collapsed": true
   },
   "outputs": [],
   "source": [
    "def combine_8_2(x):\n",
    "    s = x[\"resource_type 2\"] + x[\"resource_type 8\"]\n",
    "    if s == 2:\n",
    "        return \"both\"\n",
    "    elif s == 0:\n",
    "        return \"none\"\n",
    "    else:\n",
    "        if x[\"resource_type 2\"] == 1:\n",
    "            return \"only 2\"\n",
    "        else:\n",
    "            return \"only 8\"\n",
    "data[\"resource_type 82combo\"] = data.apply(combine_8_2 , axis = 1)"
   ]
  },
  {
   "cell_type": "code",
   "execution_count": 20,
   "metadata": {},
   "outputs": [
    {
     "data": {
      "text/plain": [
       "only 8    9328\n",
       "only 2    7978\n",
       "both       940\n",
       "none       306\n",
       "Name: resource_type 82combo, dtype: int64"
      ]
     },
     "execution_count": 20,
     "metadata": {},
     "output_type": "execute_result"
    }
   ],
   "source": [
    "data[\"resource_type 82combo\"].value_counts()"
   ]
  },
  {
   "cell_type": "code",
   "execution_count": 21,
   "metadata": {},
   "outputs": [
    {
     "data": {
      "text/plain": [
       "(18552,)"
      ]
     },
     "execution_count": 21,
     "metadata": {},
     "output_type": "execute_result"
    }
   ],
   "source": [
    "data[\"resource_type 82combo\"].shape"
   ]
  },
  {
   "cell_type": "code",
   "execution_count": 22,
   "metadata": {
    "collapsed": true
   },
   "outputs": [],
   "source": [
    "data[\"resource_type 82combo_lag\"] = data[\"resource_type 82combo\"].shift().fillna(-1)"
   ]
  },
  {
   "cell_type": "code",
   "execution_count": 23,
   "metadata": {
    "scrolled": true
   },
   "outputs": [
    {
     "data": {
      "text/html": [
       "<div>\n",
       "<style>\n",
       "    .dataframe thead tr:only-child th {\n",
       "        text-align: right;\n",
       "    }\n",
       "\n",
       "    .dataframe thead th {\n",
       "        text-align: left;\n",
       "    }\n",
       "\n",
       "    .dataframe tbody tr th {\n",
       "        vertical-align: top;\n",
       "    }\n",
       "</style>\n",
       "<table border=\"1\" class=\"dataframe\">\n",
       "  <thead>\n",
       "    <tr style=\"text-align: right;\">\n",
       "      <th></th>\n",
       "      <th>resource_type 82combo</th>\n",
       "      <th>resource_type 82combo_lag</th>\n",
       "    </tr>\n",
       "  </thead>\n",
       "  <tbody>\n",
       "    <tr>\n",
       "      <th>0</th>\n",
       "      <td>only 8</td>\n",
       "      <td>-1</td>\n",
       "    </tr>\n",
       "    <tr>\n",
       "      <th>1</th>\n",
       "      <td>only 2</td>\n",
       "      <td>only 8</td>\n",
       "    </tr>\n",
       "    <tr>\n",
       "      <th>2</th>\n",
       "      <td>only 2</td>\n",
       "      <td>only 2</td>\n",
       "    </tr>\n",
       "    <tr>\n",
       "      <th>3</th>\n",
       "      <td>only 2</td>\n",
       "      <td>only 2</td>\n",
       "    </tr>\n",
       "    <tr>\n",
       "      <th>4</th>\n",
       "      <td>only 2</td>\n",
       "      <td>only 2</td>\n",
       "    </tr>\n",
       "    <tr>\n",
       "      <th>5</th>\n",
       "      <td>only 2</td>\n",
       "      <td>only 2</td>\n",
       "    </tr>\n",
       "    <tr>\n",
       "      <th>6</th>\n",
       "      <td>both</td>\n",
       "      <td>only 2</td>\n",
       "    </tr>\n",
       "    <tr>\n",
       "      <th>7</th>\n",
       "      <td>only 2</td>\n",
       "      <td>both</td>\n",
       "    </tr>\n",
       "    <tr>\n",
       "      <th>8</th>\n",
       "      <td>only 2</td>\n",
       "      <td>only 2</td>\n",
       "    </tr>\n",
       "    <tr>\n",
       "      <th>9</th>\n",
       "      <td>only 2</td>\n",
       "      <td>only 2</td>\n",
       "    </tr>\n",
       "    <tr>\n",
       "      <th>10</th>\n",
       "      <td>only 8</td>\n",
       "      <td>only 2</td>\n",
       "    </tr>\n",
       "    <tr>\n",
       "      <th>11</th>\n",
       "      <td>only 8</td>\n",
       "      <td>only 8</td>\n",
       "    </tr>\n",
       "    <tr>\n",
       "      <th>12</th>\n",
       "      <td>only 2</td>\n",
       "      <td>only 8</td>\n",
       "    </tr>\n",
       "    <tr>\n",
       "      <th>13</th>\n",
       "      <td>only 2</td>\n",
       "      <td>only 2</td>\n",
       "    </tr>\n",
       "    <tr>\n",
       "      <th>14</th>\n",
       "      <td>only 2</td>\n",
       "      <td>only 2</td>\n",
       "    </tr>\n",
       "    <tr>\n",
       "      <th>15</th>\n",
       "      <td>only 2</td>\n",
       "      <td>only 2</td>\n",
       "    </tr>\n",
       "    <tr>\n",
       "      <th>16</th>\n",
       "      <td>only 2</td>\n",
       "      <td>only 2</td>\n",
       "    </tr>\n",
       "    <tr>\n",
       "      <th>17</th>\n",
       "      <td>only 2</td>\n",
       "      <td>only 2</td>\n",
       "    </tr>\n",
       "    <tr>\n",
       "      <th>18</th>\n",
       "      <td>only 2</td>\n",
       "      <td>only 2</td>\n",
       "    </tr>\n",
       "    <tr>\n",
       "      <th>19</th>\n",
       "      <td>only 2</td>\n",
       "      <td>only 2</td>\n",
       "    </tr>\n",
       "    <tr>\n",
       "      <th>20</th>\n",
       "      <td>only 2</td>\n",
       "      <td>only 2</td>\n",
       "    </tr>\n",
       "    <tr>\n",
       "      <th>21</th>\n",
       "      <td>only 2</td>\n",
       "      <td>only 2</td>\n",
       "    </tr>\n",
       "    <tr>\n",
       "      <th>22</th>\n",
       "      <td>only 8</td>\n",
       "      <td>only 2</td>\n",
       "    </tr>\n",
       "    <tr>\n",
       "      <th>23</th>\n",
       "      <td>only 8</td>\n",
       "      <td>only 8</td>\n",
       "    </tr>\n",
       "    <tr>\n",
       "      <th>24</th>\n",
       "      <td>only 8</td>\n",
       "      <td>only 8</td>\n",
       "    </tr>\n",
       "    <tr>\n",
       "      <th>25</th>\n",
       "      <td>only 2</td>\n",
       "      <td>only 8</td>\n",
       "    </tr>\n",
       "    <tr>\n",
       "      <th>26</th>\n",
       "      <td>only 8</td>\n",
       "      <td>only 2</td>\n",
       "    </tr>\n",
       "    <tr>\n",
       "      <th>27</th>\n",
       "      <td>only 8</td>\n",
       "      <td>only 8</td>\n",
       "    </tr>\n",
       "    <tr>\n",
       "      <th>28</th>\n",
       "      <td>only 8</td>\n",
       "      <td>only 8</td>\n",
       "    </tr>\n",
       "    <tr>\n",
       "      <th>29</th>\n",
       "      <td>only 8</td>\n",
       "      <td>only 8</td>\n",
       "    </tr>\n",
       "    <tr>\n",
       "      <th>...</th>\n",
       "      <td>...</td>\n",
       "      <td>...</td>\n",
       "    </tr>\n",
       "    <tr>\n",
       "      <th>18522</th>\n",
       "      <td>only 8</td>\n",
       "      <td>only 8</td>\n",
       "    </tr>\n",
       "    <tr>\n",
       "      <th>18523</th>\n",
       "      <td>only 2</td>\n",
       "      <td>only 8</td>\n",
       "    </tr>\n",
       "    <tr>\n",
       "      <th>18524</th>\n",
       "      <td>only 2</td>\n",
       "      <td>only 2</td>\n",
       "    </tr>\n",
       "    <tr>\n",
       "      <th>18525</th>\n",
       "      <td>only 8</td>\n",
       "      <td>only 2</td>\n",
       "    </tr>\n",
       "    <tr>\n",
       "      <th>18526</th>\n",
       "      <td>only 8</td>\n",
       "      <td>only 8</td>\n",
       "    </tr>\n",
       "    <tr>\n",
       "      <th>18527</th>\n",
       "      <td>only 2</td>\n",
       "      <td>only 8</td>\n",
       "    </tr>\n",
       "    <tr>\n",
       "      <th>18528</th>\n",
       "      <td>only 8</td>\n",
       "      <td>only 2</td>\n",
       "    </tr>\n",
       "    <tr>\n",
       "      <th>18529</th>\n",
       "      <td>only 2</td>\n",
       "      <td>only 8</td>\n",
       "    </tr>\n",
       "    <tr>\n",
       "      <th>18530</th>\n",
       "      <td>both</td>\n",
       "      <td>only 2</td>\n",
       "    </tr>\n",
       "    <tr>\n",
       "      <th>18531</th>\n",
       "      <td>only 2</td>\n",
       "      <td>both</td>\n",
       "    </tr>\n",
       "    <tr>\n",
       "      <th>18532</th>\n",
       "      <td>none</td>\n",
       "      <td>only 2</td>\n",
       "    </tr>\n",
       "    <tr>\n",
       "      <th>18533</th>\n",
       "      <td>only 2</td>\n",
       "      <td>none</td>\n",
       "    </tr>\n",
       "    <tr>\n",
       "      <th>18534</th>\n",
       "      <td>both</td>\n",
       "      <td>only 2</td>\n",
       "    </tr>\n",
       "    <tr>\n",
       "      <th>18535</th>\n",
       "      <td>only 8</td>\n",
       "      <td>both</td>\n",
       "    </tr>\n",
       "    <tr>\n",
       "      <th>18536</th>\n",
       "      <td>only 8</td>\n",
       "      <td>only 8</td>\n",
       "    </tr>\n",
       "    <tr>\n",
       "      <th>18537</th>\n",
       "      <td>only 2</td>\n",
       "      <td>only 8</td>\n",
       "    </tr>\n",
       "    <tr>\n",
       "      <th>18538</th>\n",
       "      <td>only 2</td>\n",
       "      <td>only 2</td>\n",
       "    </tr>\n",
       "    <tr>\n",
       "      <th>18539</th>\n",
       "      <td>only 2</td>\n",
       "      <td>only 2</td>\n",
       "    </tr>\n",
       "    <tr>\n",
       "      <th>18540</th>\n",
       "      <td>only 2</td>\n",
       "      <td>only 2</td>\n",
       "    </tr>\n",
       "    <tr>\n",
       "      <th>18541</th>\n",
       "      <td>only 2</td>\n",
       "      <td>only 2</td>\n",
       "    </tr>\n",
       "    <tr>\n",
       "      <th>18542</th>\n",
       "      <td>only 8</td>\n",
       "      <td>only 2</td>\n",
       "    </tr>\n",
       "    <tr>\n",
       "      <th>18543</th>\n",
       "      <td>only 8</td>\n",
       "      <td>only 8</td>\n",
       "    </tr>\n",
       "    <tr>\n",
       "      <th>18544</th>\n",
       "      <td>only 8</td>\n",
       "      <td>only 8</td>\n",
       "    </tr>\n",
       "    <tr>\n",
       "      <th>18545</th>\n",
       "      <td>only 8</td>\n",
       "      <td>only 8</td>\n",
       "    </tr>\n",
       "    <tr>\n",
       "      <th>18546</th>\n",
       "      <td>only 2</td>\n",
       "      <td>only 8</td>\n",
       "    </tr>\n",
       "    <tr>\n",
       "      <th>18547</th>\n",
       "      <td>only 2</td>\n",
       "      <td>only 2</td>\n",
       "    </tr>\n",
       "    <tr>\n",
       "      <th>18548</th>\n",
       "      <td>only 2</td>\n",
       "      <td>only 2</td>\n",
       "    </tr>\n",
       "    <tr>\n",
       "      <th>18549</th>\n",
       "      <td>only 2</td>\n",
       "      <td>only 2</td>\n",
       "    </tr>\n",
       "    <tr>\n",
       "      <th>18550</th>\n",
       "      <td>only 8</td>\n",
       "      <td>only 2</td>\n",
       "    </tr>\n",
       "    <tr>\n",
       "      <th>18551</th>\n",
       "      <td>only 2</td>\n",
       "      <td>only 8</td>\n",
       "    </tr>\n",
       "  </tbody>\n",
       "</table>\n",
       "<p>18552 rows × 2 columns</p>\n",
       "</div>"
      ],
      "text/plain": [
       "      resource_type 82combo resource_type 82combo_lag\n",
       "0                    only 8                        -1\n",
       "1                    only 2                    only 8\n",
       "2                    only 2                    only 2\n",
       "3                    only 2                    only 2\n",
       "4                    only 2                    only 2\n",
       "5                    only 2                    only 2\n",
       "6                      both                    only 2\n",
       "7                    only 2                      both\n",
       "8                    only 2                    only 2\n",
       "9                    only 2                    only 2\n",
       "10                   only 8                    only 2\n",
       "11                   only 8                    only 8\n",
       "12                   only 2                    only 8\n",
       "13                   only 2                    only 2\n",
       "14                   only 2                    only 2\n",
       "15                   only 2                    only 2\n",
       "16                   only 2                    only 2\n",
       "17                   only 2                    only 2\n",
       "18                   only 2                    only 2\n",
       "19                   only 2                    only 2\n",
       "20                   only 2                    only 2\n",
       "21                   only 2                    only 2\n",
       "22                   only 8                    only 2\n",
       "23                   only 8                    only 8\n",
       "24                   only 8                    only 8\n",
       "25                   only 2                    only 8\n",
       "26                   only 8                    only 2\n",
       "27                   only 8                    only 8\n",
       "28                   only 8                    only 8\n",
       "29                   only 8                    only 8\n",
       "...                     ...                       ...\n",
       "18522                only 8                    only 8\n",
       "18523                only 2                    only 8\n",
       "18524                only 2                    only 2\n",
       "18525                only 8                    only 2\n",
       "18526                only 8                    only 8\n",
       "18527                only 2                    only 8\n",
       "18528                only 8                    only 2\n",
       "18529                only 2                    only 8\n",
       "18530                  both                    only 2\n",
       "18531                only 2                      both\n",
       "18532                  none                    only 2\n",
       "18533                only 2                      none\n",
       "18534                  both                    only 2\n",
       "18535                only 8                      both\n",
       "18536                only 8                    only 8\n",
       "18537                only 2                    only 8\n",
       "18538                only 2                    only 2\n",
       "18539                only 2                    only 2\n",
       "18540                only 2                    only 2\n",
       "18541                only 2                    only 2\n",
       "18542                only 8                    only 2\n",
       "18543                only 8                    only 8\n",
       "18544                only 8                    only 8\n",
       "18545                only 8                    only 8\n",
       "18546                only 2                    only 8\n",
       "18547                only 2                    only 2\n",
       "18548                only 2                    only 2\n",
       "18549                only 2                    only 2\n",
       "18550                only 8                    only 2\n",
       "18551                only 2                    only 8\n",
       "\n",
       "[18552 rows x 2 columns]"
      ]
     },
     "execution_count": 23,
     "metadata": {},
     "output_type": "execute_result"
    }
   ],
   "source": [
    "data[[\"resource_type 82combo\" , \"resource_type 82combo_lag\"]]"
   ]
  },
  {
   "cell_type": "code",
   "execution_count": 24,
   "metadata": {
    "collapsed": true
   },
   "outputs": [],
   "source": [
    "data[\"resource_type_change\"] = data.apply(lambda x: 1 if x[\"resource_type 82combo\"] == x[\"resource_type 82combo_lag\"] else 0 , axis = 1)"
   ]
  },
  {
   "cell_type": "code",
   "execution_count": 25,
   "metadata": {},
   "outputs": [
    {
     "data": {
      "text/plain": [
       "0    10286\n",
       "1     8266\n",
       "Name: resource_type_change, dtype: int64"
      ]
     },
     "execution_count": 25,
     "metadata": {},
     "output_type": "execute_result"
    }
   ],
   "source": [
    "data[\"resource_type_change\"].value_counts()"
   ]
  },
  {
   "cell_type": "code",
   "execution_count": 26,
   "metadata": {
    "collapsed": true
   },
   "outputs": [],
   "source": [
    "data.drop([\"resource_type 82combo\" , \"resource_type 82combo_lag\"] , axis = 1 , inplace = True)"
   ]
  },
  {
   "cell_type": "markdown",
   "metadata": {},
   "source": [
    "## Check if previous location is same"
   ]
  },
  {
   "cell_type": "code",
   "execution_count": 27,
   "metadata": {
    "collapsed": true
   },
   "outputs": [],
   "source": [
    "data[\"location_lag\"] = data[\"location\"].shift().fillna(-1)"
   ]
  },
  {
   "cell_type": "code",
   "execution_count": 28,
   "metadata": {
    "collapsed": true
   },
   "outputs": [],
   "source": [
    "data[\"location_previous_same\"] = data.apply(lambda x: 1 if x[\"location\"] == x[\"location_lag\"] else 0 , axis = 1)"
   ]
  },
  {
   "cell_type": "code",
   "execution_count": 29,
   "metadata": {
    "collapsed": true
   },
   "outputs": [],
   "source": [
    "data.drop([\"location_lag\"] , axis = 1 , inplace = True)"
   ]
  },
  {
   "cell_type": "code",
   "execution_count": 31,
   "metadata": {},
   "outputs": [
    {
     "data": {
      "text/plain": [
       "0    18485\n",
       "1       67\n",
       "Name: location_previous_same, dtype: int64"
      ]
     },
     "execution_count": 31,
     "metadata": {},
     "output_type": "execute_result"
    }
   ],
   "source": [
    "data[\"location_previous_same\"].value_counts()"
   ]
  },
  {
   "cell_type": "markdown",
   "metadata": {},
   "source": [
    "## Divide back into test and train"
   ]
  },
  {
   "cell_type": "code",
   "execution_count": 32,
   "metadata": {
    "collapsed": true
   },
   "outputs": [],
   "source": [
    "train = data.loc[data[\"source\"] == \"train\"]\n",
    "test = data.loc[data[\"source\"] == \"test\"]"
   ]
  },
  {
   "cell_type": "code",
   "execution_count": 33,
   "metadata": {},
   "outputs": [
    {
     "name": "stderr",
     "output_type": "stream",
     "text": [
      "/Users/zhanghsiungwei/anaconda/envs/tensor/lib/python2.7/site-packages/ipykernel_launcher.py:1: SettingWithCopyWarning: \n",
      "A value is trying to be set on a copy of a slice from a DataFrame\n",
      "\n",
      "See the caveats in the documentation: http://pandas.pydata.org/pandas-docs/stable/indexing.html#indexing-view-versus-copy\n",
      "  \"\"\"Entry point for launching an IPython kernel.\n",
      "/Users/zhanghsiungwei/anaconda/envs/tensor/lib/python2.7/site-packages/ipykernel_launcher.py:2: SettingWithCopyWarning: \n",
      "A value is trying to be set on a copy of a slice from a DataFrame\n",
      "\n",
      "See the caveats in the documentation: http://pandas.pydata.org/pandas-docs/stable/indexing.html#indexing-view-versus-copy\n",
      "  \n"
     ]
    }
   ],
   "source": [
    "train.drop(\"source\" , axis = 1 , inplace = True)\n",
    "test.drop([\"source\" , \"fault_severity\"] , axis = 1 , inplace = True)"
   ]
  },
  {
   "cell_type": "code",
   "execution_count": 34,
   "metadata": {
    "collapsed": true
   },
   "outputs": [],
   "source": [
    "train.to_csv(\"data/train_modified_4.csv\" , index = False)\n",
    "test.to_csv(\"data/test_modified_4.csv\" , index = False)"
   ]
  },
  {
   "cell_type": "code",
   "execution_count": null,
   "metadata": {
    "collapsed": true
   },
   "outputs": [],
   "source": []
  }
 ],
 "metadata": {
  "kernelspec": {
   "display_name": "Python 2",
   "language": "python",
   "name": "python2"
  },
  "language_info": {
   "codemirror_mode": {
    "name": "ipython",
    "version": 2
   },
   "file_extension": ".py",
   "mimetype": "text/x-python",
   "name": "python",
   "nbconvert_exporter": "python",
   "pygments_lexer": "ipython2",
   "version": "2.7.13"
  }
 },
 "nbformat": 4,
 "nbformat_minor": 2
}
